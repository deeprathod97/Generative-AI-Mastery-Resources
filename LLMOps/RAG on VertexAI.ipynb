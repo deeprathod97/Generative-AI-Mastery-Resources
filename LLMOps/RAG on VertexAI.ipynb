{
  "cells": [
    {
      "cell_type": "code",
      "execution_count": 1,
      "id": "vBG29zWhwWnCbzlDyJPBWIN6",
      "metadata": {
        "colab": {
          "base_uri": "https://localhost:8080/"
        },
        "executionInfo": {
          "elapsed": 4,
          "status": "ok",
          "timestamp": 1727326200874,
          "user": {
            "displayName": "",
            "userId": ""
          },
          "user_tz": -360
        },
        "id": "vBG29zWhwWnCbzlDyJPBWIN6",
        "outputId": "d1e9b6f4-f253-4d6c-c913-8e06c7fec6c1",
        "tags": []
      },
      "outputs": [
        {
          "name": "stdout",
          "output_type": "stream",
          "text": [
            "ok\n"
          ]
        }
      ],
      "source": [
        "print(\"ok\")"
      ]
    },
    {
      "cell_type": "code",
      "execution_count": 2,
      "id": "IJS27zX0qhwo",
      "metadata": {
        "colab": {
          "base_uri": "https://localhost:8080/"
        },
        "executionInfo": {
          "elapsed": 11970,
          "status": "ok",
          "timestamp": 1727326220032,
          "user": {
            "displayName": "",
            "userId": ""
          },
          "user_tz": -360
        },
        "id": "IJS27zX0qhwo",
        "outputId": "25ae6f71-1bd0-41a4-8efe-4e436b3ea451"
      },
      "outputs": [
        {
          "name": "stdout",
          "output_type": "stream",
          "text": [
            "Collecting pypdf2\n",
            "  Downloading pypdf2-3.0.1-py3-none-any.whl.metadata (6.8 kB)\n",
            "Downloading pypdf2-3.0.1-py3-none-any.whl (232 kB)\n",
            "Installing collected packages: pypdf2\n",
            "Successfully installed pypdf2-3.0.1\n",
            "Collecting google-cloud-aiplatform\n",
            "  Downloading google_cloud_aiplatform-1.70.0-py2.py3-none-any.whl.metadata (32 kB)\n",
            "Collecting google-api-core!=2.0.*,!=2.1.*,!=2.2.*,!=2.3.*,!=2.4.*,!=2.5.*,!=2.6.*,!=2.7.*,<3.0.0dev,>=1.34.1 (from google-api-core[grpc]!=2.0.*,!=2.1.*,!=2.2.*,!=2.3.*,!=2.4.*,!=2.5.*,!=2.6.*,!=2.7.*,<3.0.0dev,>=1.34.1->google-cloud-aiplatform)\n",
            "  Downloading google_api_core-2.21.0-py3-none-any.whl.metadata (2.8 kB)\n",
            "Requirement already satisfied: google-auth<3.0.0dev,>=2.14.1 in c:\\users\\deepr\\appdata\\local\\packages\\pythonsoftwarefoundation.python.3.11_qbz5n2kfra8p0\\localcache\\local-packages\\python311\\site-packages (from google-cloud-aiplatform) (2.29.0)\n",
            "Collecting proto-plus<2.0.0dev,>=1.22.3 (from google-cloud-aiplatform)\n",
            "  Downloading proto_plus-1.25.0-py3-none-any.whl.metadata (2.2 kB)\n",
            "Requirement already satisfied: protobuf!=4.21.0,!=4.21.1,!=4.21.2,!=4.21.3,!=4.21.4,!=4.21.5,<6.0.0dev,>=3.20.2 in c:\\users\\deepr\\appdata\\local\\packages\\pythonsoftwarefoundation.python.3.11_qbz5n2kfra8p0\\localcache\\local-packages\\python311\\site-packages (from google-cloud-aiplatform) (4.25.3)\n",
            "Requirement already satisfied: packaging>=14.3 in c:\\users\\deepr\\appdata\\local\\packages\\pythonsoftwarefoundation.python.3.11_qbz5n2kfra8p0\\localcache\\local-packages\\python311\\site-packages (from google-cloud-aiplatform) (24.1)\n",
            "Collecting google-cloud-storage<3.0.0dev,>=1.32.0 (from google-cloud-aiplatform)\n",
            "  Downloading google_cloud_storage-2.18.2-py2.py3-none-any.whl.metadata (9.1 kB)\n",
            "Collecting google-cloud-bigquery!=3.20.0,<4.0.0dev,>=1.15.0 (from google-cloud-aiplatform)\n",
            "  Downloading google_cloud_bigquery-3.26.0-py2.py3-none-any.whl.metadata (8.7 kB)\n",
            "Collecting google-cloud-resource-manager<3.0.0dev,>=1.3.3 (from google-cloud-aiplatform)\n",
            "  Downloading google_cloud_resource_manager-1.13.0-py2.py3-none-any.whl.metadata (5.4 kB)\n",
            "Collecting shapely<3.0.0dev (from google-cloud-aiplatform)\n",
            "  Downloading shapely-2.0.6-cp311-cp311-win_amd64.whl.metadata (7.2 kB)\n",
            "Requirement already satisfied: pydantic<3 in c:\\users\\deepr\\appdata\\local\\packages\\pythonsoftwarefoundation.python.3.11_qbz5n2kfra8p0\\localcache\\local-packages\\python311\\site-packages (from google-cloud-aiplatform) (2.7.0)\n",
            "Collecting docstring-parser<1 (from google-cloud-aiplatform)\n",
            "  Using cached docstring_parser-0.16-py3-none-any.whl.metadata (3.0 kB)\n",
            "Requirement already satisfied: googleapis-common-protos<2.0.dev0,>=1.56.2 in c:\\users\\deepr\\appdata\\local\\packages\\pythonsoftwarefoundation.python.3.11_qbz5n2kfra8p0\\localcache\\local-packages\\python311\\site-packages (from google-api-core!=2.0.*,!=2.1.*,!=2.2.*,!=2.3.*,!=2.4.*,!=2.5.*,!=2.6.*,!=2.7.*,<3.0.0dev,>=1.34.1->google-api-core[grpc]!=2.0.*,!=2.1.*,!=2.2.*,!=2.3.*,!=2.4.*,!=2.5.*,!=2.6.*,!=2.7.*,<3.0.0dev,>=1.34.1->google-cloud-aiplatform) (1.63.1)\n",
            "Requirement already satisfied: requests<3.0.0.dev0,>=2.18.0 in c:\\users\\deepr\\appdata\\local\\packages\\pythonsoftwarefoundation.python.3.11_qbz5n2kfra8p0\\localcache\\local-packages\\python311\\site-packages (from google-api-core!=2.0.*,!=2.1.*,!=2.2.*,!=2.3.*,!=2.4.*,!=2.5.*,!=2.6.*,!=2.7.*,<3.0.0dev,>=1.34.1->google-api-core[grpc]!=2.0.*,!=2.1.*,!=2.2.*,!=2.3.*,!=2.4.*,!=2.5.*,!=2.6.*,!=2.7.*,<3.0.0dev,>=1.34.1->google-cloud-aiplatform) (2.32.3)\n",
            "Requirement already satisfied: grpcio<2.0dev,>=1.33.2 in c:\\users\\deepr\\appdata\\local\\packages\\pythonsoftwarefoundation.python.3.11_qbz5n2kfra8p0\\localcache\\local-packages\\python311\\site-packages (from google-api-core[grpc]!=2.0.*,!=2.1.*,!=2.2.*,!=2.3.*,!=2.4.*,!=2.5.*,!=2.6.*,!=2.7.*,<3.0.0dev,>=1.34.1->google-cloud-aiplatform) (1.63.0)\n",
            "Collecting grpcio-status<2.0.dev0,>=1.33.2 (from google-api-core[grpc]!=2.0.*,!=2.1.*,!=2.2.*,!=2.3.*,!=2.4.*,!=2.5.*,!=2.6.*,!=2.7.*,<3.0.0dev,>=1.34.1->google-cloud-aiplatform)\n",
            "  Downloading grpcio_status-1.67.0-py3-none-any.whl.metadata (1.1 kB)\n",
            "Requirement already satisfied: cachetools<6.0,>=2.0.0 in c:\\users\\deepr\\appdata\\local\\packages\\pythonsoftwarefoundation.python.3.11_qbz5n2kfra8p0\\localcache\\local-packages\\python311\\site-packages (from google-auth<3.0.0dev,>=2.14.1->google-cloud-aiplatform) (5.3.3)\n",
            "Requirement already satisfied: pyasn1-modules>=0.2.1 in c:\\users\\deepr\\appdata\\local\\packages\\pythonsoftwarefoundation.python.3.11_qbz5n2kfra8p0\\localcache\\local-packages\\python311\\site-packages (from google-auth<3.0.0dev,>=2.14.1->google-cloud-aiplatform) (0.4.0)\n",
            "Requirement already satisfied: rsa<5,>=3.1.4 in c:\\users\\deepr\\appdata\\local\\packages\\pythonsoftwarefoundation.python.3.11_qbz5n2kfra8p0\\localcache\\local-packages\\python311\\site-packages (from google-auth<3.0.0dev,>=2.14.1->google-cloud-aiplatform) (4.9)\n",
            "Collecting google-cloud-core<3.0.0dev,>=2.4.1 (from google-cloud-bigquery!=3.20.0,<4.0.0dev,>=1.15.0->google-cloud-aiplatform)\n",
            "  Downloading google_cloud_core-2.4.1-py2.py3-none-any.whl.metadata (2.7 kB)\n",
            "Collecting google-resumable-media<3.0dev,>=2.0.0 (from google-cloud-bigquery!=3.20.0,<4.0.0dev,>=1.15.0->google-cloud-aiplatform)\n",
            "  Downloading google_resumable_media-2.7.2-py2.py3-none-any.whl.metadata (2.2 kB)\n",
            "Requirement already satisfied: python-dateutil<3.0dev,>=2.7.3 in c:\\users\\deepr\\appdata\\local\\packages\\pythonsoftwarefoundation.python.3.11_qbz5n2kfra8p0\\localcache\\local-packages\\python311\\site-packages (from google-cloud-bigquery!=3.20.0,<4.0.0dev,>=1.15.0->google-cloud-aiplatform) (2.9.0.post0)\n",
            "Collecting grpc-google-iam-v1<1.0.0dev,>=0.12.4 (from google-cloud-resource-manager<3.0.0dev,>=1.3.3->google-cloud-aiplatform)\n",
            "  Downloading grpc_google_iam_v1-0.13.1-py2.py3-none-any.whl.metadata (3.3 kB)\n",
            "Collecting google-crc32c<2.0dev,>=1.0 (from google-cloud-storage<3.0.0dev,>=1.32.0->google-cloud-aiplatform)\n",
            "  Downloading google_crc32c-1.6.0-cp311-cp311-win_amd64.whl.metadata (2.4 kB)\n",
            "Requirement already satisfied: annotated-types>=0.4.0 in c:\\users\\deepr\\appdata\\local\\packages\\pythonsoftwarefoundation.python.3.11_qbz5n2kfra8p0\\localcache\\local-packages\\python311\\site-packages (from pydantic<3->google-cloud-aiplatform) (0.6.0)\n",
            "Requirement already satisfied: pydantic-core==2.18.1 in c:\\users\\deepr\\appdata\\local\\packages\\pythonsoftwarefoundation.python.3.11_qbz5n2kfra8p0\\localcache\\local-packages\\python311\\site-packages (from pydantic<3->google-cloud-aiplatform) (2.18.1)\n",
            "Requirement already satisfied: typing-extensions>=4.6.1 in c:\\users\\deepr\\appdata\\local\\packages\\pythonsoftwarefoundation.python.3.11_qbz5n2kfra8p0\\localcache\\local-packages\\python311\\site-packages (from pydantic<3->google-cloud-aiplatform) (4.12.0)\n",
            "Requirement already satisfied: numpy<3,>=1.14 in c:\\users\\deepr\\appdata\\local\\packages\\pythonsoftwarefoundation.python.3.11_qbz5n2kfra8p0\\localcache\\local-packages\\python311\\site-packages (from shapely<3.0.0dev->google-cloud-aiplatform) (1.26.4)\n",
            "Collecting protobuf!=4.21.0,!=4.21.1,!=4.21.2,!=4.21.3,!=4.21.4,!=4.21.5,<6.0.0dev,>=3.20.2 (from google-cloud-aiplatform)\n",
            "  Downloading protobuf-5.28.3-cp310-abi3-win_amd64.whl.metadata (592 bytes)\n",
            "Collecting grpcio<2.0dev,>=1.33.2 (from google-api-core[grpc]!=2.0.*,!=2.1.*,!=2.2.*,!=2.3.*,!=2.4.*,!=2.5.*,!=2.6.*,!=2.7.*,<3.0.0dev,>=1.34.1->google-cloud-aiplatform)\n",
            "  Downloading grpcio-1.67.0-cp311-cp311-win_amd64.whl.metadata (4.0 kB)\n",
            "Requirement already satisfied: pyasn1<0.7.0,>=0.4.6 in c:\\users\\deepr\\appdata\\local\\packages\\pythonsoftwarefoundation.python.3.11_qbz5n2kfra8p0\\localcache\\local-packages\\python311\\site-packages (from pyasn1-modules>=0.2.1->google-auth<3.0.0dev,>=2.14.1->google-cloud-aiplatform) (0.6.0)\n",
            "Requirement already satisfied: six>=1.5 in c:\\users\\deepr\\appdata\\local\\packages\\pythonsoftwarefoundation.python.3.11_qbz5n2kfra8p0\\localcache\\local-packages\\python311\\site-packages (from python-dateutil<3.0dev,>=2.7.3->google-cloud-bigquery!=3.20.0,<4.0.0dev,>=1.15.0->google-cloud-aiplatform) (1.16.0)\n",
            "Requirement already satisfied: charset-normalizer<4,>=2 in c:\\users\\deepr\\appdata\\local\\packages\\pythonsoftwarefoundation.python.3.11_qbz5n2kfra8p0\\localcache\\local-packages\\python311\\site-packages (from requests<3.0.0.dev0,>=2.18.0->google-api-core!=2.0.*,!=2.1.*,!=2.2.*,!=2.3.*,!=2.4.*,!=2.5.*,!=2.6.*,!=2.7.*,<3.0.0dev,>=1.34.1->google-api-core[grpc]!=2.0.*,!=2.1.*,!=2.2.*,!=2.3.*,!=2.4.*,!=2.5.*,!=2.6.*,!=2.7.*,<3.0.0dev,>=1.34.1->google-cloud-aiplatform) (3.3.2)\n",
            "Requirement already satisfied: idna<4,>=2.5 in c:\\users\\deepr\\appdata\\local\\packages\\pythonsoftwarefoundation.python.3.11_qbz5n2kfra8p0\\localcache\\local-packages\\python311\\site-packages (from requests<3.0.0.dev0,>=2.18.0->google-api-core!=2.0.*,!=2.1.*,!=2.2.*,!=2.3.*,!=2.4.*,!=2.5.*,!=2.6.*,!=2.7.*,<3.0.0dev,>=1.34.1->google-api-core[grpc]!=2.0.*,!=2.1.*,!=2.2.*,!=2.3.*,!=2.4.*,!=2.5.*,!=2.6.*,!=2.7.*,<3.0.0dev,>=1.34.1->google-cloud-aiplatform) (3.7)\n",
            "Requirement already satisfied: urllib3<3,>=1.21.1 in c:\\users\\deepr\\appdata\\local\\packages\\pythonsoftwarefoundation.python.3.11_qbz5n2kfra8p0\\localcache\\local-packages\\python311\\site-packages (from requests<3.0.0.dev0,>=2.18.0->google-api-core!=2.0.*,!=2.1.*,!=2.2.*,!=2.3.*,!=2.4.*,!=2.5.*,!=2.6.*,!=2.7.*,<3.0.0dev,>=1.34.1->google-api-core[grpc]!=2.0.*,!=2.1.*,!=2.2.*,!=2.3.*,!=2.4.*,!=2.5.*,!=2.6.*,!=2.7.*,<3.0.0dev,>=1.34.1->google-cloud-aiplatform) (2.2.1)\n",
            "Requirement already satisfied: certifi>=2017.4.17 in c:\\users\\deepr\\appdata\\local\\packages\\pythonsoftwarefoundation.python.3.11_qbz5n2kfra8p0\\localcache\\local-packages\\python311\\site-packages (from requests<3.0.0.dev0,>=2.18.0->google-api-core!=2.0.*,!=2.1.*,!=2.2.*,!=2.3.*,!=2.4.*,!=2.5.*,!=2.6.*,!=2.7.*,<3.0.0dev,>=1.34.1->google-api-core[grpc]!=2.0.*,!=2.1.*,!=2.2.*,!=2.3.*,!=2.4.*,!=2.5.*,!=2.6.*,!=2.7.*,<3.0.0dev,>=1.34.1->google-cloud-aiplatform) (2024.2.2)\n",
            "Downloading google_cloud_aiplatform-1.70.0-py2.py3-none-any.whl (5.3 MB)\n",
            "   ---------------------------------------- 0.0/5.3 MB ? eta -:--:--\n",
            "   ---------------------------------------- 0.0/5.3 MB ? eta -:--:--\n",
            "   - -------------------------------------- 0.3/5.3 MB ? eta -:--:--\n",
            "   --- ------------------------------------ 0.5/5.3 MB 1.1 MB/s eta 0:00:05\n",
            "   ----- ---------------------------------- 0.8/5.3 MB 1.2 MB/s eta 0:00:04\n",
            "   ------- -------------------------------- 1.0/5.3 MB 1.2 MB/s eta 0:00:04\n",
            "   --------- ------------------------------ 1.3/5.3 MB 1.1 MB/s eta 0:00:04\n",
            "   ----------- ---------------------------- 1.6/5.3 MB 1.1 MB/s eta 0:00:04\n",
            "   ----------- ---------------------------- 1.6/5.3 MB 1.1 MB/s eta 0:00:04\n",
            "   ----------- ---------------------------- 1.6/5.3 MB 1.1 MB/s eta 0:00:04\n",
            "   ----------- ---------------------------- 1.6/5.3 MB 1.1 MB/s eta 0:00:04\n",
            "   ----------- ---------------------------- 1.6/5.3 MB 1.1 MB/s eta 0:00:04\n",
            "   ------------- -------------------------- 1.8/5.3 MB 718.9 kB/s eta 0:00:05\n",
            "   ------------- -------------------------- 1.8/5.3 MB 718.9 kB/s eta 0:00:05\n",
            "   --------------- ------------------------ 2.1/5.3 MB 674.9 kB/s eta 0:00:05\n",
            "   --------------- ------------------------ 2.1/5.3 MB 674.9 kB/s eta 0:00:05\n",
            "   ----------------- ---------------------- 2.4/5.3 MB 661.1 kB/s eta 0:00:05\n",
            "   ----------------- ---------------------- 2.4/5.3 MB 661.1 kB/s eta 0:00:05\n",
            "   ------------------- -------------------- 2.6/5.3 MB 662.2 kB/s eta 0:00:04\n",
            "   ------------------- -------------------- 2.6/5.3 MB 662.2 kB/s eta 0:00:04\n",
            "   ------------------- -------------------- 2.6/5.3 MB 662.2 kB/s eta 0:00:04\n",
            "   --------------------- ------------------ 2.9/5.3 MB 623.7 kB/s eta 0:00:04\n",
            "   --------------------- ------------------ 2.9/5.3 MB 623.7 kB/s eta 0:00:04\n",
            "   --------------------- ------------------ 2.9/5.3 MB 623.7 kB/s eta 0:00:04\n",
            "   ----------------------- ---------------- 3.1/5.3 MB 601.1 kB/s eta 0:00:04\n",
            "   ----------------------- ---------------- 3.1/5.3 MB 601.1 kB/s eta 0:00:04\n",
            "   ------------------------- -------------- 3.4/5.3 MB 597.4 kB/s eta 0:00:04\n",
            "   --------------------------- ------------ 3.7/5.3 MB 605.8 kB/s eta 0:00:03\n",
            "   --------------------------- ------------ 3.7/5.3 MB 605.8 kB/s eta 0:00:03\n",
            "   ----------------------------- ---------- 3.9/5.3 MB 624.7 kB/s eta 0:00:03\n",
            "   ------------------------------- -------- 4.2/5.3 MB 645.3 kB/s eta 0:00:02\n",
            "   --------------------------------- ------ 4.5/5.3 MB 662.8 kB/s eta 0:00:02\n",
            "   ----------------------------------- ---- 4.7/5.3 MB 682.4 kB/s eta 0:00:01\n",
            "   ------------------------------------- -- 5.0/5.3 MB 692.6 kB/s eta 0:00:01\n",
            "   ---------------------------------------- 5.3/5.3 MB 711.9 kB/s eta 0:00:00\n",
            "Using cached docstring_parser-0.16-py3-none-any.whl (36 kB)\n",
            "Downloading google_api_core-2.21.0-py3-none-any.whl (156 kB)\n",
            "Downloading google_cloud_bigquery-3.26.0-py2.py3-none-any.whl (239 kB)\n",
            "Downloading google_cloud_resource_manager-1.13.0-py2.py3-none-any.whl (359 kB)\n",
            "Downloading google_cloud_storage-2.18.2-py2.py3-none-any.whl (130 kB)\n",
            "Downloading proto_plus-1.25.0-py3-none-any.whl (50 kB)\n",
            "Downloading shapely-2.0.6-cp311-cp311-win_amd64.whl (1.4 MB)\n",
            "   ---------------------------------------- 0.0/1.4 MB ? eta -:--:--\n",
            "   ---------------------------------------- 0.0/1.4 MB ? eta -:--:--\n",
            "   ------- -------------------------------- 0.3/1.4 MB ? eta -:--:--\n",
            "   -------------- ------------------------- 0.5/1.4 MB 1.1 MB/s eta 0:00:01\n",
            "   --------------------- ------------------ 0.8/1.4 MB 931.2 kB/s eta 0:00:01\n",
            "   --------------------- ------------------ 0.8/1.4 MB 931.2 kB/s eta 0:00:01\n",
            "   ------------------------------------ --- 1.3/1.4 MB 1.0 MB/s eta 0:00:01\n",
            "   ---------------------------------------- 1.4/1.4 MB 1.0 MB/s eta 0:00:00\n",
            "Downloading google_cloud_core-2.4.1-py2.py3-none-any.whl (29 kB)\n",
            "Downloading google_crc32c-1.6.0-cp311-cp311-win_amd64.whl (33 kB)\n",
            "Downloading google_resumable_media-2.7.2-py2.py3-none-any.whl (81 kB)\n",
            "Downloading grpc_google_iam_v1-0.13.1-py2.py3-none-any.whl (24 kB)\n",
            "Downloading grpcio_status-1.67.0-py3-none-any.whl (14 kB)\n",
            "Downloading protobuf-5.28.3-cp310-abi3-win_amd64.whl (431 kB)\n",
            "Downloading grpcio-1.67.0-cp311-cp311-win_amd64.whl (4.4 MB)\n",
            "   ---------------------------------------- 0.0/4.4 MB ? eta -:--:--\n",
            "   -- ------------------------------------- 0.3/4.4 MB ? eta -:--:--\n",
            "   ---- ----------------------------------- 0.5/4.4 MB 1.5 MB/s eta 0:00:03\n",
            "   ------- -------------------------------- 0.8/4.4 MB 1.3 MB/s eta 0:00:03\n",
            "   --------- ------------------------------ 1.0/4.4 MB 1.1 MB/s eta 0:00:03\n",
            "   --------- ------------------------------ 1.0/4.4 MB 1.1 MB/s eta 0:00:03\n",
            "   ------------ --------------------------- 1.3/4.4 MB 1.1 MB/s eta 0:00:03\n",
            "   -------------- ------------------------- 1.6/4.4 MB 1.1 MB/s eta 0:00:03\n",
            "   ---------------- ----------------------- 1.8/4.4 MB 1.1 MB/s eta 0:00:03\n",
            "   ---------------- ----------------------- 1.8/4.4 MB 1.1 MB/s eta 0:00:03\n",
            "   ---------------- ----------------------- 1.8/4.4 MB 1.1 MB/s eta 0:00:03\n",
            "   ------------------- -------------------- 2.1/4.4 MB 903.5 kB/s eta 0:00:03\n",
            "   ------------------- -------------------- 2.1/4.4 MB 903.5 kB/s eta 0:00:03\n",
            "   --------------------- ------------------ 2.4/4.4 MB 844.3 kB/s eta 0:00:03\n",
            "   --------------------- ------------------ 2.4/4.4 MB 844.3 kB/s eta 0:00:03\n",
            "   ------------------------ --------------- 2.6/4.4 MB 816.4 kB/s eta 0:00:03\n",
            "   -------------------------- ------------- 2.9/4.4 MB 834.9 kB/s eta 0:00:02\n",
            "   -------------------------- ------------- 2.9/4.4 MB 834.9 kB/s eta 0:00:02\n",
            "   -------------------------- ------------- 2.9/4.4 MB 834.9 kB/s eta 0:00:02\n",
            "   ---------------------------- ----------- 3.1/4.4 MB 762.7 kB/s eta 0:00:02\n",
            "   ---------------------------- ----------- 3.1/4.4 MB 762.7 kB/s eta 0:00:02\n",
            "   ------------------------------- -------- 3.4/4.4 MB 740.2 kB/s eta 0:00:02\n",
            "   --------------------------------- ------ 3.7/4.4 MB 754.8 kB/s eta 0:00:01\n",
            "   ------------------------------------ --- 3.9/4.4 MB 767.6 kB/s eta 0:00:01\n",
            "   ------------------------------------ --- 3.9/4.4 MB 767.6 kB/s eta 0:00:01\n",
            "   -------------------------------------- - 4.2/4.4 MB 776.8 kB/s eta 0:00:01\n",
            "   ---------------------------------------- 4.4/4.4 MB 770.0 kB/s eta 0:00:00\n",
            "Installing collected packages: shapely, protobuf, grpcio, google-crc32c, docstring-parser, proto-plus, google-resumable-media, grpcio-status, google-api-core, grpc-google-iam-v1, google-cloud-core, google-cloud-storage, google-cloud-resource-manager, google-cloud-bigquery, google-cloud-aiplatform\n",
            "  Attempting uninstall: protobuf\n",
            "    Found existing installation: protobuf 4.25.3\n",
            "    Uninstalling protobuf-4.25.3:\n",
            "      Successfully uninstalled protobuf-4.25.3\n",
            "  Attempting uninstall: grpcio\n",
            "    Found existing installation: grpcio 1.63.0\n",
            "    Uninstalling grpcio-1.63.0:\n",
            "      Successfully uninstalled grpcio-1.63.0\n",
            "Successfully installed docstring-parser-0.16 google-api-core-2.21.0 google-cloud-aiplatform-1.70.0 google-cloud-bigquery-3.26.0 google-cloud-core-2.4.1 google-cloud-resource-manager-1.13.0 google-cloud-storage-2.18.2 google-crc32c-1.6.0 google-resumable-media-2.7.2 grpc-google-iam-v1-0.13.1 grpcio-1.67.0 grpcio-status-1.67.0 proto-plus-1.25.0 protobuf-5.28.3 shapely-2.0.6\n"
          ]
        },
        {
          "name": "stderr",
          "output_type": "stream",
          "text": [
            "ERROR: pip's dependency resolver does not currently take into account all the packages that are installed. This behaviour is the source of the following dependency conflicts.\n",
            "mediapipe 0.10.14 requires protobuf<5,>=4.25.3, but you have protobuf 5.28.3 which is incompatible.\n",
            "opentelemetry-proto 1.25.0 requires protobuf<5.0,>=3.19, but you have protobuf 5.28.3 which is incompatible.\n",
            "streamlit 1.35.0 requires protobuf<5,>=3.20, but you have protobuf 5.28.3 which is incompatible.\n"
          ]
        },
        {
          "name": "stdout",
          "output_type": "stream",
          "text": [
            "Requirement already satisfied: google-cloud-storage in c:\\users\\deepr\\appdata\\local\\packages\\pythonsoftwarefoundation.python.3.11_qbz5n2kfra8p0\\localcache\\local-packages\\python311\\site-packages (2.18.2)\n",
            "Requirement already satisfied: google-auth<3.0dev,>=2.26.1 in c:\\users\\deepr\\appdata\\local\\packages\\pythonsoftwarefoundation.python.3.11_qbz5n2kfra8p0\\localcache\\local-packages\\python311\\site-packages (from google-cloud-storage) (2.29.0)\n",
            "Requirement already satisfied: google-api-core<3.0.0dev,>=2.15.0 in c:\\users\\deepr\\appdata\\local\\packages\\pythonsoftwarefoundation.python.3.11_qbz5n2kfra8p0\\localcache\\local-packages\\python311\\site-packages (from google-cloud-storage) (2.21.0)\n",
            "Requirement already satisfied: google-cloud-core<3.0dev,>=2.3.0 in c:\\users\\deepr\\appdata\\local\\packages\\pythonsoftwarefoundation.python.3.11_qbz5n2kfra8p0\\localcache\\local-packages\\python311\\site-packages (from google-cloud-storage) (2.4.1)\n",
            "Requirement already satisfied: google-resumable-media>=2.7.2 in c:\\users\\deepr\\appdata\\local\\packages\\pythonsoftwarefoundation.python.3.11_qbz5n2kfra8p0\\localcache\\local-packages\\python311\\site-packages (from google-cloud-storage) (2.7.2)\n",
            "Requirement already satisfied: requests<3.0.0dev,>=2.18.0 in c:\\users\\deepr\\appdata\\local\\packages\\pythonsoftwarefoundation.python.3.11_qbz5n2kfra8p0\\localcache\\local-packages\\python311\\site-packages (from google-cloud-storage) (2.32.3)\n",
            "Requirement already satisfied: google-crc32c<2.0dev,>=1.0 in c:\\users\\deepr\\appdata\\local\\packages\\pythonsoftwarefoundation.python.3.11_qbz5n2kfra8p0\\localcache\\local-packages\\python311\\site-packages (from google-cloud-storage) (1.6.0)\n",
            "Requirement already satisfied: googleapis-common-protos<2.0.dev0,>=1.56.2 in c:\\users\\deepr\\appdata\\local\\packages\\pythonsoftwarefoundation.python.3.11_qbz5n2kfra8p0\\localcache\\local-packages\\python311\\site-packages (from google-api-core<3.0.0dev,>=2.15.0->google-cloud-storage) (1.63.1)\n",
            "Requirement already satisfied: protobuf!=3.20.0,!=3.20.1,!=4.21.0,!=4.21.1,!=4.21.2,!=4.21.3,!=4.21.4,!=4.21.5,<6.0.0.dev0,>=3.19.5 in c:\\users\\deepr\\appdata\\local\\packages\\pythonsoftwarefoundation.python.3.11_qbz5n2kfra8p0\\localcache\\local-packages\\python311\\site-packages (from google-api-core<3.0.0dev,>=2.15.0->google-cloud-storage) (5.28.3)\n",
            "Requirement already satisfied: proto-plus<2.0.0dev,>=1.22.3 in c:\\users\\deepr\\appdata\\local\\packages\\pythonsoftwarefoundation.python.3.11_qbz5n2kfra8p0\\localcache\\local-packages\\python311\\site-packages (from google-api-core<3.0.0dev,>=2.15.0->google-cloud-storage) (1.25.0)\n",
            "Requirement already satisfied: cachetools<6.0,>=2.0.0 in c:\\users\\deepr\\appdata\\local\\packages\\pythonsoftwarefoundation.python.3.11_qbz5n2kfra8p0\\localcache\\local-packages\\python311\\site-packages (from google-auth<3.0dev,>=2.26.1->google-cloud-storage) (5.3.3)\n",
            "Requirement already satisfied: pyasn1-modules>=0.2.1 in c:\\users\\deepr\\appdata\\local\\packages\\pythonsoftwarefoundation.python.3.11_qbz5n2kfra8p0\\localcache\\local-packages\\python311\\site-packages (from google-auth<3.0dev,>=2.26.1->google-cloud-storage) (0.4.0)\n",
            "Requirement already satisfied: rsa<5,>=3.1.4 in c:\\users\\deepr\\appdata\\local\\packages\\pythonsoftwarefoundation.python.3.11_qbz5n2kfra8p0\\localcache\\local-packages\\python311\\site-packages (from google-auth<3.0dev,>=2.26.1->google-cloud-storage) (4.9)\n",
            "Requirement already satisfied: charset-normalizer<4,>=2 in c:\\users\\deepr\\appdata\\local\\packages\\pythonsoftwarefoundation.python.3.11_qbz5n2kfra8p0\\localcache\\local-packages\\python311\\site-packages (from requests<3.0.0dev,>=2.18.0->google-cloud-storage) (3.3.2)\n",
            "Requirement already satisfied: idna<4,>=2.5 in c:\\users\\deepr\\appdata\\local\\packages\\pythonsoftwarefoundation.python.3.11_qbz5n2kfra8p0\\localcache\\local-packages\\python311\\site-packages (from requests<3.0.0dev,>=2.18.0->google-cloud-storage) (3.7)\n",
            "Requirement already satisfied: urllib3<3,>=1.21.1 in c:\\users\\deepr\\appdata\\local\\packages\\pythonsoftwarefoundation.python.3.11_qbz5n2kfra8p0\\localcache\\local-packages\\python311\\site-packages (from requests<3.0.0dev,>=2.18.0->google-cloud-storage) (2.2.1)\n",
            "Requirement already satisfied: certifi>=2017.4.17 in c:\\users\\deepr\\appdata\\local\\packages\\pythonsoftwarefoundation.python.3.11_qbz5n2kfra8p0\\localcache\\local-packages\\python311\\site-packages (from requests<3.0.0dev,>=2.18.0->google-cloud-storage) (2024.2.2)\n",
            "Requirement already satisfied: pyasn1<0.7.0,>=0.4.6 in c:\\users\\deepr\\appdata\\local\\packages\\pythonsoftwarefoundation.python.3.11_qbz5n2kfra8p0\\localcache\\local-packages\\python311\\site-packages (from pyasn1-modules>=0.2.1->google-auth<3.0dev,>=2.26.1->google-cloud-storage) (0.6.0)\n"
          ]
        }
      ],
      "source": [
        "# Install some required packages\n",
        "\n",
        "!pip install pypdf2\n",
        "!pip install google-cloud-aiplatform\n",
        "!pip install google-cloud-storage"
      ]
    },
    {
      "cell_type": "code",
      "execution_count": 3,
      "id": "_i2lh3_CqjvH",
      "metadata": {
        "executionInfo": {
          "elapsed": 3988,
          "status": "ok",
          "timestamp": 1727326227949,
          "user": {
            "displayName": "",
            "userId": ""
          },
          "user_tz": -360
        },
        "id": "_i2lh3_CqjvH"
      },
      "outputs": [],
      "source": [
        "from google.cloud import storage\n",
        "from vertexai.language_models import TextEmbeddingModel\n",
        "from google.cloud import aiplatform\n",
        "import PyPDF2\n",
        "\n",
        "import re\n",
        "import os\n",
        "import random\n",
        "import json\n",
        "import uuid\n"
      ]
    },
    {
      "cell_type": "code",
      "execution_count": 4,
      "id": "JDZd-aoTqnYu",
      "metadata": {
        "colab": {
          "base_uri": "https://localhost:8080/"
        },
        "executionInfo": {
          "elapsed": 3,
          "status": "ok",
          "timestamp": 1727326255825,
          "user": {
            "displayName": "",
            "userId": ""
          },
          "user_tz": -360
        },
        "id": "JDZd-aoTqnYu",
        "outputId": "11fdb336-c149-4397-a458-9cdceedc3b0c"
      },
      "outputs": [
        {
          "name": "stdout",
          "output_type": "stream",
          "text": [
            " Volume in drive C is OS\n",
            " Volume Serial Number is CE6C-D39A\n",
            "\n",
            " Directory of c:\\Users\\deepr\\OneDrive\\Desktop\\python 1\\Generative-AI-Mastery-Resources\\LLMOps\n",
            "\n",
            "26-10-2024  19:01    <DIR>          .\n",
            "26-10-2024  19:01    <DIR>          ..\n",
            "26-10-2024  19:01         1,164,471 bedrock demo.zip\n",
            "26-10-2024  19:01         1,200,925 GenerativeAI-Project-RAG-Bedrock.zip\n",
            "26-10-2024  19:01             3,119 LLM-Powered-Chatbot.zip\n",
            "26-10-2024  19:25            52,643 RAG on VertexAI.ipynb\n",
            "26-10-2024  19:01         2,028,599 vertexai demo.ipynb\n",
            "26-10-2024  19:01            71,101 vertexai_llm_fine_tuning_supervised.ipynb\n",
            "26-10-2024  19:01             1,190 Vertexai_local_demo.zip\n",
            "               7 File(s)      4,522,048 bytes\n",
            "               2 Dir(s)  62,977,605,632 bytes free\n"
          ]
        }
      ],
      "source": [
        "%ls"
      ]
    },
    {
      "cell_type": "code",
      "execution_count": 5,
      "id": "7fjg2m8LqvOe",
      "metadata": {
        "executionInfo": {
          "elapsed": 2,
          "status": "ok",
          "timestamp": 1727326353363,
          "user": {
            "displayName": "",
            "userId": ""
          },
          "user_tz": -360
        },
        "id": "7fjg2m8LqvOe"
      },
      "outputs": [],
      "source": [
        "# Initialize some variable\n",
        "\n",
        "# project=\"your_GCP_project_id\"\n",
        "location=\"us-central1\"\n",
        "\n",
        "pdf_path=\"stats.pdf\"\n",
        "bucket_name = \"stats-content2024\"\n",
        "embed_file_path = \"stats_embeddings.json\"\n",
        "sentence_file_path = \"stats_sentences.json\"\n",
        "index_name=\"stats_index\"\n"
      ]
    },
    {
      "cell_type": "code",
      "execution_count": 6,
      "id": "oj4QAgy3qyi9",
      "metadata": {
        "executionInfo": {
          "elapsed": 3,
          "status": "ok",
          "timestamp": 1727326356241,
          "user": {
            "displayName": "",
            "userId": ""
          },
          "user_tz": -360
        },
        "id": "oj4QAgy3qyi9"
      },
      "outputs": [],
      "source": [
        "# helper\n",
        "\n",
        "def extract_sentences_from_pdf(pdf_path):\n",
        "    with open(pdf_path, 'rb') as file:\n",
        "        reader = PyPDF2.PdfReader(file)\n",
        "        text = \"\"\n",
        "        for page in reader.pages:\n",
        "            if page.extract_text() is not None:\n",
        "                text += page.extract_text() + \" \"\n",
        "    sentences = [sentence.strip() for sentence in text.split('. ') if sentence.strip()]\n",
        "    return sentences"
      ]
    },
    {
      "cell_type": "code",
      "execution_count": 7,
      "id": "WiZ-nSVVq03V",
      "metadata": {
        "executionInfo": {
          "elapsed": 2,
          "status": "ok",
          "timestamp": 1727326356965,
          "user": {
            "displayName": "",
            "userId": ""
          },
          "user_tz": -360
        },
        "id": "WiZ-nSVVq03V"
      },
      "outputs": [],
      "source": [
        "def generate_text_embeddings(sentences) -> list:\n",
        "  # aiplatform.init(project=project,location=location)\n",
        "  model = TextEmbeddingModel.from_pretrained(\"textembedding-gecko@001\")\n",
        "  embeddings = model.get_embeddings(sentences)\n",
        "  vectors = [embedding.values for embedding in embeddings]\n",
        "  return vectors"
      ]
    },
    {
      "cell_type": "code",
      "execution_count": 8,
      "id": "sCcPWMSVq2j1",
      "metadata": {
        "executionInfo": {
          "elapsed": 1,
          "status": "ok",
          "timestamp": 1727326356965,
          "user": {
            "displayName": "",
            "userId": ""
          },
          "user_tz": -360
        },
        "id": "sCcPWMSVq2j1"
      },
      "outputs": [],
      "source": [
        "def generate_and_save_embeddings(pdf_path, sentence_file_path, embed_file_path):\n",
        "    def clean_text(text):\n",
        "        cleaned_text = re.sub(r'\\u2022', '', text)  # Remove bullet points\n",
        "        cleaned_text = re.sub(r'\\s+', ' ', cleaned_text).strip()  # Remove extra whitespaces and strip\n",
        "        return cleaned_text\n",
        "\n",
        "    sentences = extract_sentences_from_pdf(pdf_path)\n",
        "    if sentences:\n",
        "        embeddings = generate_text_embeddings(sentences)\n",
        "\n",
        "        with open(embed_file_path, 'w') as embed_file, open(sentence_file_path, 'w') as sentence_file:\n",
        "            for sentence, embedding in zip(sentences, embeddings):\n",
        "                cleaned_sentence = clean_text(sentence)\n",
        "                id = str(uuid.uuid4())\n",
        "\n",
        "                embed_item = {\"id\": id, \"embedding\": embedding}\n",
        "                sentence_item = {\"id\": id, \"sentence\": cleaned_sentence}\n",
        "\n",
        "                json.dump(sentence_item, sentence_file)\n",
        "                sentence_file.write('\\n')\n",
        "                json.dump(embed_item, embed_file)\n",
        "                embed_file.write('\\n')"
      ]
    },
    {
      "cell_type": "code",
      "execution_count": 9,
      "id": "eBmAHQPJq5Ju",
      "metadata": {
        "executionInfo": {
          "elapsed": 1,
          "status": "ok",
          "timestamp": 1727326358432,
          "user": {
            "displayName": "",
            "userId": ""
          },
          "user_tz": -360
        },
        "id": "eBmAHQPJq5Ju"
      },
      "outputs": [],
      "source": [
        "def upload_file(bucket_name,file_path):\n",
        "    storage_client = storage.Client()\n",
        "    bucket = storage_client.create_bucket(bucket_name,location=location)\n",
        "    blob = bucket.blob(file_path)\n",
        "    blob.upload_from_filename(file_path)"
      ]
    },
    {
      "cell_type": "code",
      "execution_count": 10,
      "id": "7I-aCNaaq6aG",
      "metadata": {
        "executionInfo": {
          "elapsed": 2,
          "status": "ok",
          "timestamp": 1727326359171,
          "user": {
            "displayName": "",
            "userId": ""
          },
          "user_tz": -360
        },
        "id": "7I-aCNaaq6aG"
      },
      "outputs": [],
      "source": [
        "def create_vector_index(bucket_name, index_name):\n",
        "    lakeside_index = aiplatform.MatchingEngineIndex.create_tree_ah_index(\n",
        "    display_name = index_name,\n",
        "    contents_delta_uri = \"gs://\"+bucket_name,\n",
        "    dimensions = 768,\n",
        "    approximate_neighbors_count = 10,\n",
        "    )\n",
        "\n",
        "    lakeside_index_endpoint = aiplatform.MatchingEngineIndexEndpoint.create(\n",
        "    display_name = index_name,\n",
        "    public_endpoint_enabled = True\n",
        "    )\n",
        "\n",
        "    lakeside_index_endpoint.deploy_index(\n",
        "    index = lakeside_index, deployed_index_id = index_name\n",
        "    )"
      ]
    },
    {
      "cell_type": "code",
      "execution_count": 11,
      "id": "8etUF5CEq8Mm",
      "metadata": {
        "executionInfo": {
          "elapsed": 1520,
          "status": "ok",
          "timestamp": 1727326360690,
          "user": {
            "displayName": "",
            "userId": ""
          },
          "user_tz": -360
        },
        "id": "8etUF5CEq8Mm"
      },
      "outputs": [
        {
          "ename": "FileNotFoundError",
          "evalue": "[Errno 2] No such file or directory: 'stats.pdf'",
          "output_type": "error",
          "traceback": [
            "\u001b[1;31m---------------------------------------------------------------------------\u001b[0m",
            "\u001b[1;31mFileNotFoundError\u001b[0m                         Traceback (most recent call last)",
            "Cell \u001b[1;32mIn[11], line 1\u001b[0m\n\u001b[1;32m----> 1\u001b[0m \u001b[43mgenerate_and_save_embeddings\u001b[49m\u001b[43m(\u001b[49m\u001b[43mpdf_path\u001b[49m\u001b[43m,\u001b[49m\u001b[43msentence_file_path\u001b[49m\u001b[43m,\u001b[49m\u001b[43membed_file_path\u001b[49m\u001b[43m)\u001b[49m\n\u001b[0;32m      2\u001b[0m upload_file(bucket_name,sentence_file_path)\n",
            "Cell \u001b[1;32mIn[8], line 7\u001b[0m, in \u001b[0;36mgenerate_and_save_embeddings\u001b[1;34m(pdf_path, sentence_file_path, embed_file_path)\u001b[0m\n\u001b[0;32m      4\u001b[0m     cleaned_text \u001b[38;5;241m=\u001b[39m re\u001b[38;5;241m.\u001b[39msub(\u001b[38;5;124mr\u001b[39m\u001b[38;5;124m'\u001b[39m\u001b[38;5;124m\\\u001b[39m\u001b[38;5;124ms+\u001b[39m\u001b[38;5;124m'\u001b[39m, \u001b[38;5;124m'\u001b[39m\u001b[38;5;124m \u001b[39m\u001b[38;5;124m'\u001b[39m, cleaned_text)\u001b[38;5;241m.\u001b[39mstrip()  \u001b[38;5;66;03m# Remove extra whitespaces and strip\u001b[39;00m\n\u001b[0;32m      5\u001b[0m     \u001b[38;5;28;01mreturn\u001b[39;00m cleaned_text\n\u001b[1;32m----> 7\u001b[0m sentences \u001b[38;5;241m=\u001b[39m \u001b[43mextract_sentences_from_pdf\u001b[49m\u001b[43m(\u001b[49m\u001b[43mpdf_path\u001b[49m\u001b[43m)\u001b[49m\n\u001b[0;32m      8\u001b[0m \u001b[38;5;28;01mif\u001b[39;00m sentences:\n\u001b[0;32m      9\u001b[0m     embeddings \u001b[38;5;241m=\u001b[39m generate_text_embeddings(sentences)\n",
            "Cell \u001b[1;32mIn[6], line 4\u001b[0m, in \u001b[0;36mextract_sentences_from_pdf\u001b[1;34m(pdf_path)\u001b[0m\n\u001b[0;32m      3\u001b[0m \u001b[38;5;28;01mdef\u001b[39;00m \u001b[38;5;21mextract_sentences_from_pdf\u001b[39m(pdf_path):\n\u001b[1;32m----> 4\u001b[0m     \u001b[38;5;28;01mwith\u001b[39;00m \u001b[38;5;28;43mopen\u001b[39;49m\u001b[43m(\u001b[49m\u001b[43mpdf_path\u001b[49m\u001b[43m,\u001b[49m\u001b[43m \u001b[49m\u001b[38;5;124;43m'\u001b[39;49m\u001b[38;5;124;43mrb\u001b[39;49m\u001b[38;5;124;43m'\u001b[39;49m\u001b[43m)\u001b[49m \u001b[38;5;28;01mas\u001b[39;00m file:\n\u001b[0;32m      5\u001b[0m         reader \u001b[38;5;241m=\u001b[39m PyPDF2\u001b[38;5;241m.\u001b[39mPdfReader(file)\n\u001b[0;32m      6\u001b[0m         text \u001b[38;5;241m=\u001b[39m \u001b[38;5;124m\"\u001b[39m\u001b[38;5;124m\"\u001b[39m\n",
            "File \u001b[1;32m~\\AppData\\Local\\Packages\\PythonSoftwareFoundation.Python.3.11_qbz5n2kfra8p0\\LocalCache\\local-packages\\Python311\\site-packages\\IPython\\core\\interactiveshell.py:324\u001b[0m, in \u001b[0;36m_modified_open\u001b[1;34m(file, *args, **kwargs)\u001b[0m\n\u001b[0;32m    317\u001b[0m \u001b[38;5;28;01mif\u001b[39;00m file \u001b[38;5;129;01min\u001b[39;00m {\u001b[38;5;241m0\u001b[39m, \u001b[38;5;241m1\u001b[39m, \u001b[38;5;241m2\u001b[39m}:\n\u001b[0;32m    318\u001b[0m     \u001b[38;5;28;01mraise\u001b[39;00m \u001b[38;5;167;01mValueError\u001b[39;00m(\n\u001b[0;32m    319\u001b[0m         \u001b[38;5;124mf\u001b[39m\u001b[38;5;124m\"\u001b[39m\u001b[38;5;124mIPython won\u001b[39m\u001b[38;5;124m'\u001b[39m\u001b[38;5;124mt let you open fd=\u001b[39m\u001b[38;5;132;01m{\u001b[39;00mfile\u001b[38;5;132;01m}\u001b[39;00m\u001b[38;5;124m by default \u001b[39m\u001b[38;5;124m\"\u001b[39m\n\u001b[0;32m    320\u001b[0m         \u001b[38;5;124m\"\u001b[39m\u001b[38;5;124mas it is likely to crash IPython. If you know what you are doing, \u001b[39m\u001b[38;5;124m\"\u001b[39m\n\u001b[0;32m    321\u001b[0m         \u001b[38;5;124m\"\u001b[39m\u001b[38;5;124myou can use builtins\u001b[39m\u001b[38;5;124m'\u001b[39m\u001b[38;5;124m open.\u001b[39m\u001b[38;5;124m\"\u001b[39m\n\u001b[0;32m    322\u001b[0m     )\n\u001b[1;32m--> 324\u001b[0m \u001b[38;5;28;01mreturn\u001b[39;00m \u001b[43mio_open\u001b[49m\u001b[43m(\u001b[49m\u001b[43mfile\u001b[49m\u001b[43m,\u001b[49m\u001b[43m \u001b[49m\u001b[38;5;241;43m*\u001b[39;49m\u001b[43margs\u001b[49m\u001b[43m,\u001b[49m\u001b[43m \u001b[49m\u001b[38;5;241;43m*\u001b[39;49m\u001b[38;5;241;43m*\u001b[39;49m\u001b[43mkwargs\u001b[49m\u001b[43m)\u001b[49m\n",
            "\u001b[1;31mFileNotFoundError\u001b[0m: [Errno 2] No such file or directory: 'stats.pdf'"
          ]
        }
      ],
      "source": [
        "generate_and_save_embeddings(pdf_path,sentence_file_path,embed_file_path)\n",
        "upload_file(bucket_name,sentence_file_path)"
      ]
    },
    {
      "cell_type": "code",
      "execution_count": 19,
      "id": "itPg6OEzq-kO",
      "metadata": {
        "colab": {
          "base_uri": "https://localhost:8080/"
        },
        "executionInfo": {
          "elapsed": 1703164,
          "status": "ok",
          "timestamp": 1727328100291,
          "user": {
            "displayName": "",
            "userId": ""
          },
          "user_tz": -360
        },
        "id": "itPg6OEzq-kO",
        "outputId": "ab4211db-ecd6-4085-bef2-f71359d0eb9e"
      },
      "outputs": [
        {
          "name": "stderr",
          "output_type": "stream",
          "text": [
            "INFO:google.cloud.aiplatform.matching_engine.matching_engine_index:Creating MatchingEngineIndex\n",
            "INFO:google.cloud.aiplatform.matching_engine.matching_engine_index:Create MatchingEngineIndex backing LRO: projects/509917135302/locations/us-central1/indexes/5993635795099975680/operations/6412509215151095808\n",
            "INFO:google.cloud.aiplatform.matching_engine.matching_engine_index:MatchingEngineIndex created. Resource name: projects/509917135302/locations/us-central1/indexes/5993635795099975680\n",
            "INFO:google.cloud.aiplatform.matching_engine.matching_engine_index:To use this MatchingEngineIndex in another session:\n",
            "INFO:google.cloud.aiplatform.matching_engine.matching_engine_index:index = aiplatform.MatchingEngineIndex('projects/509917135302/locations/us-central1/indexes/5993635795099975680')\n",
            "INFO:google.cloud.aiplatform.matching_engine.matching_engine_index_endpoint:Creating MatchingEngineIndexEndpoint\n",
            "INFO:google.cloud.aiplatform.matching_engine.matching_engine_index_endpoint:Create MatchingEngineIndexEndpoint backing LRO: projects/509917135302/locations/us-central1/indexEndpoints/1376179539650019328/operations/8628948734887067648\n",
            "INFO:google.cloud.aiplatform.matching_engine.matching_engine_index_endpoint:MatchingEngineIndexEndpoint created. Resource name: projects/509917135302/locations/us-central1/indexEndpoints/1376179539650019328\n",
            "INFO:google.cloud.aiplatform.matching_engine.matching_engine_index_endpoint:To use this MatchingEngineIndexEndpoint in another session:\n",
            "INFO:google.cloud.aiplatform.matching_engine.matching_engine_index_endpoint:index_endpoint = aiplatform.MatchingEngineIndexEndpoint('projects/509917135302/locations/us-central1/indexEndpoints/1376179539650019328')\n",
            "INFO:google.cloud.aiplatform.matching_engine.matching_engine_index_endpoint:Deploying index MatchingEngineIndexEndpoint index_endpoint: projects/509917135302/locations/us-central1/indexEndpoints/1376179539650019328\n",
            "INFO:google.cloud.aiplatform.matching_engine.matching_engine_index_endpoint:Deploy index MatchingEngineIndexEndpoint index_endpoint backing LRO: projects/509917135302/locations/us-central1/indexEndpoints/1376179539650019328/operations/2385165248375029760\n",
            "INFO:google.cloud.aiplatform.matching_engine.matching_engine_index_endpoint:MatchingEngineIndexEndpoint index_endpoint Deployed index. Resource name: projects/509917135302/locations/us-central1/indexEndpoints/1376179539650019328\n"
          ]
        }
      ],
      "source": [
        "create_vector_index(bucket_name, index_name)"
      ]
    },
    {
      "cell_type": "code",
      "execution_count": 20,
      "id": "iURiCr76rRue",
      "metadata": {
        "executionInfo": {
          "elapsed": 2,
          "status": "ok",
          "timestamp": 1727328143465,
          "user": {
            "displayName": "",
            "userId": ""
          },
          "user_tz": -360
        },
        "id": "iURiCr76rRue"
      },
      "outputs": [],
      "source": [
        "from vertexai.language_models import TextEmbeddingModel\n",
        "from google.cloud import aiplatform\n",
        "import vertexai\n",
        "from vertexai.preview.generative_models import GenerativeModel, Part\n",
        "import json\n",
        "import os"
      ]
    },
    {
      "cell_type": "code",
      "execution_count": 21,
      "id": "4JpYpYlAx8Du",
      "metadata": {
        "executionInfo": {
          "elapsed": 1,
          "status": "ok",
          "timestamp": 1727328155023,
          "user": {
            "displayName": "",
            "userId": ""
          },
          "user_tz": -360
        },
        "id": "4JpYpYlAx8Du"
      },
      "outputs": [],
      "source": [
        "# project=”YOUR_GCP_PROJECT”\n",
        "location=\"us-central1\"\n",
        "sentence_file_path = \"stats_sentences.json\"\n",
        "index_name=\"stats_index\" #Get this from the console or the previous step"
      ]
    },
    {
      "cell_type": "code",
      "execution_count": 25,
      "id": "TWP8r_VIx-tu",
      "metadata": {
        "executionInfo": {
          "elapsed": 751,
          "status": "ok",
          "timestamp": 1727328576029,
          "user": {
            "displayName": "",
            "userId": ""
          },
          "user_tz": -360
        },
        "id": "TWP8r_VIx-tu"
      },
      "outputs": [],
      "source": [
        "# aiplatform.init(project=project,location=location)\n",
        "# vertexai.init()\n",
        "model = GenerativeModel(\"gemini-pro\")\n",
        "lakeside_index_ep = aiplatform.MatchingEngineIndexEndpoint(index_endpoint_name=\"1376179539650019328\")"
      ]
    },
    {
      "cell_type": "code",
      "execution_count": 26,
      "id": "y5CpZY01yKum",
      "metadata": {
        "executionInfo": {
          "elapsed": 2,
          "status": "ok",
          "timestamp": 1727328597001,
          "user": {
            "displayName": "",
            "userId": ""
          },
          "user_tz": -360
        },
        "id": "y5CpZY01yKum"
      },
      "outputs": [],
      "source": [
        "def generate_text_embeddings(sentences) -> list:\n",
        "    model = TextEmbeddingModel.from_pretrained(\"textembedding-gecko@001\")\n",
        "    embeddings = model.get_embeddings(sentences)\n",
        "    vectors = [embedding.values for embedding in embeddings]\n",
        "    return vectors\n",
        "\n",
        "\n",
        "def generate_context(ids,data):\n",
        "    concatenated_names = ''\n",
        "    for id in ids:\n",
        "        for entry in data:\n",
        "            if entry['id'] == id:\n",
        "                concatenated_names += entry['sentence'] + \"\\n\"\n",
        "    return concatenated_names.strip()\n",
        "\n",
        "\n",
        "\n",
        "def load_file(sentence_file_path):\n",
        "  data = []\n",
        "  with open(sentence_file_path,'r') as f:\n",
        "    for line in f:\n",
        "      entry = json.loads(line)\n",
        "      data.append(entry)\n",
        "  return data\n",
        "\n",
        "\n",
        "\n"
      ]
    },
    {
      "cell_type": "code",
      "execution_count": 27,
      "id": "6aCnXfywzqxO",
      "metadata": {
        "colab": {
          "base_uri": "https://localhost:8080/"
        },
        "executionInfo": {
          "elapsed": 4,
          "status": "ok",
          "timestamp": 1727328602867,
          "user": {
            "displayName": "",
            "userId": ""
          },
          "user_tz": -360
        },
        "id": "6aCnXfywzqxO",
        "outputId": "b7ae595b-8d4f-400a-b283-15eca0ec9f7d"
      },
      "outputs": [
        {
          "data": {
            "text/plain": [
              "[{'id': 'd587cca8-5563-4321-9a6f-1128ab760880',\n",
              "  'sentence': 'Importance and the use of correlation in Statistics Introduction Correlation is a statistical measure that expresses the extent to which two variables are linearly related. It is a common tool for describing simple relationships without making a statement about cause and effect. Correlation coefficients range from -1 to 1, with a value of 0 indicating no linear relationship between the two variables, a value of 1 indicating a perfect positive linear relationship, and a value of -1 indicating a perfect negative linear relationship. Correlation is important in statistics because it can be used to 1. Identify relationships between variables: Correlation can be used to identify whether there is a relationship between two variables, and if so, whether the relationship is positive or negative. This information can be useful for understanding the relationships between different factors in a complex system. 2. Make predictions: If there is a strong correlation between two variables, it is possible to use the value of one variable to predict the value of the other variable. This can be useful for making predictions in a variety of fields, such as business, finance, and medicine. 3. Develop causal models: Correlation can be used as a starting point for developing causal models, which are models that describe how changes in one variable cause changes in other variables. Causal models can be used to make more accurate predictions and to develop interventions to change the values of specific variables'},\n",
              " {'id': 'ef43e9e4-a127-406a-970f-1b4e1842875a',\n",
              "  'sentence': 'Correlation is used in a wide variety of fields including 1. Business: Correlation can be used to identify relationships between different business variables, such as sales, advertising spending, and customer satisfaction. This information can be used to make better business decisions, such as how to allocate marketing resources. 2. Finance: Correlation can be used to identify relationships between different financial assets, such as stocks, bonds, and commodities. This information can be used to build diversified portfolios that reduce risk. 3. Medicine: Correlation can be used to identify relationships between different medical variables, such as risk factors for diseases and the effectiveness of treatments. This information can be used to improve the prevention, diagnosis, and treatment of diseases. 4. Psychology: Correlation can be used to identify relationships between different psychological variables, such as personality traits, cognitive abilities, and mental disorders. This information can be used to develop better psychological assessments and treatments. How correlation is used in the real world 1. A marketing manager might use correlation to identify the relationship between advertising spending and sales. This information could be used to decide how much money to allocate to advertising. 2. A financial analyst might use correlation to identify the relationship between the returns of different stocks. This information could be used to build a portfolio of stocks that is diversified and has a lower overall risk. 3. A medical researcher might use correlation to identify the relationship between smoking and lung cancer. This information could be used to develop public health campaigns to discourage smoking. 4. A psychologist might use correlation to identify the relationship between anxiety and depression. This information could be used to develop more effective treatments for anxiety and depression. Conclusion It is important to note that correlation does not equal causation. Just because two variables are correlated does not mean that one variable causes the other . For example, there is a strong correlation between ice cream sales and shark attacks. However , this does not mean that eating ice cream causes shark attacks. Instead, there is likely a third variable, such as hot weather , that causes both ice cream sales and shark attacks to increase. Overall, correlation is a powerful statistical tool that can be used to identify relationships between variables, make predictions, and develop causal models. It is used in a wide variety of fields to make better decisions and improve outcomes'}]"
            ]
          },
          "execution_count": 27,
          "metadata": {},
          "output_type": "execute_result"
        }
      ],
      "source": [
        "data=load_file(sentence_file_path)\n",
        "data"
      ]
    },
    {
      "cell_type": "code",
      "execution_count": 38,
      "id": "kJjWdNaHzsQE",
      "metadata": {
        "executionInfo": {
          "elapsed": 701,
          "status": "ok",
          "timestamp": 1727330380465,
          "user": {
            "displayName": "",
            "userId": ""
          },
          "user_tz": -360
        },
        "id": "kJjWdNaHzsQE"
      },
      "outputs": [],
      "source": [
        "query=[\"what is correlation?\"]\n",
        "\n",
        "qry_emb=generate_text_embeddings(query)"
      ]
    },
    {
      "cell_type": "code",
      "execution_count": 35,
      "id": "e36FrIBmzxWP",
      "metadata": {
        "executionInfo": {
          "elapsed": 1,
          "status": "ok",
          "timestamp": 1727330336392,
          "user": {
            "displayName": "",
            "userId": ""
          },
          "user_tz": -360
        },
        "id": "e36FrIBmzxWP"
      },
      "outputs": [],
      "source": [
        "# qry_emb"
      ]
    },
    {
      "cell_type": "code",
      "execution_count": 39,
      "id": "7oUeWFzezyMG",
      "metadata": {
        "executionInfo": {
          "elapsed": 721,
          "status": "ok",
          "timestamp": 1727330385419,
          "user": {
            "displayName": "",
            "userId": ""
          },
          "user_tz": -360
        },
        "id": "7oUeWFzezyMG"
      },
      "outputs": [],
      "source": [
        "response = lakeside_index_ep.find_neighbors(\n",
        "    deployed_index_id = index_name,\n",
        "    queries = [qry_emb[0]],\n",
        "    num_neighbors = 10\n",
        ")"
      ]
    },
    {
      "cell_type": "code",
      "execution_count": 40,
      "id": "iY4Gk2SBz7Cg",
      "metadata": {
        "colab": {
          "base_uri": "https://localhost:8080/"
        },
        "executionInfo": {
          "elapsed": 4748,
          "status": "ok",
          "timestamp": 1727330393753,
          "user": {
            "displayName": "",
            "userId": ""
          },
          "user_tz": -360
        },
        "id": "iY4Gk2SBz7Cg",
        "outputId": "60060dd9-c5ec-40bf-cb34-49822a06dabc"
      },
      "outputs": [
        {
          "name": "stdout",
          "output_type": "stream",
          "text": [
            "Correlation is a statistical measure that indicates the extent to which two variables are related. It can range from -1 to 1, where:\n",
            "\n",
            "* **-1**: Perfect negative correlation. As one variable increases, the other variable decreases proportionally.\n",
            "* **0**: No correlation. There is no relationship between the two variables.\n",
            "* **+1**: Perfect positive correlation. As one variable increases, the other variable also increases proportionally.\n",
            "\n",
            "Correlation does not imply causation, meaning that just because two variables are correlated does not mean that one causes the other. Other factors may be responsible for the relationship between the variables.\n",
            "\n",
            "Correlation is commonly used in research to identify relationships between variables and to make predictions. However, it is important to note that correlation is not always a reliable indicator of causation.\n"
          ]
        }
      ],
      "source": [
        "matching_ids = [neighbor.id for sublist in response for neighbor in sublist]\n",
        "\n",
        "context = generate_context(matching_ids,data)\n",
        "prompt=f\"Based on the context delimited in backticks, answer the query. ```{context}``` {query}\"\n",
        "\n",
        "chat = model.start_chat(history=[])\n",
        "response = chat.send_message(prompt)\n",
        "print(response.text)"
      ]
    },
    {
      "cell_type": "code",
      "execution_count": null,
      "id": "Pgue5OOnz-dG",
      "metadata": {
        "id": "Pgue5OOnz-dG"
      },
      "outputs": [],
      "source": []
    }
  ],
  "metadata": {
    "colab": {
      "name": "cloud (Sep 26, 2024, 10:48:35 AM)",
      "provenance": []
    },
    "kernelspec": {
      "display_name": "Python 3",
      "language": "python",
      "name": "python3"
    },
    "language_info": {
      "codemirror_mode": {
        "name": "ipython",
        "version": 3
      },
      "file_extension": ".py",
      "mimetype": "text/x-python",
      "name": "python",
      "nbconvert_exporter": "python",
      "pygments_lexer": "ipython3",
      "version": "3.11.9"
    }
  },
  "nbformat": 4,
  "nbformat_minor": 5
}
